{
 "cells": [
  {
   "cell_type": "code",
   "execution_count": 389,
   "id": "5daa4be5",
   "metadata": {},
   "outputs": [],
   "source": [
    "# importing required packages and libraries\n",
    "import pandas as pd \n",
    "import matplotlib.pyplot as plt\n",
    "import matplotlib.image as img\n",
    "from gettext import install\n",
    "from PIL import Image\n",
    "import pywt\n",
    "import os\n",
    "import re\n",
    "import cv2\n",
    "import numpy as np\n",
    "import tensorflow as tf\n",
    "from tensorflow import keras\n",
    "from sklearn import neighbors\n",
    "from sklearn.metrics import mean_squared_error \n",
    "from math import sqrt"
   ]
  },
  {
   "cell_type": "code",
   "execution_count": 390,
   "id": "8de6f8f4",
   "metadata": {},
   "outputs": [
    {
     "data": {
      "text/html": [
       "<div>\n",
       "<style scoped>\n",
       "    .dataframe tbody tr th:only-of-type {\n",
       "        vertical-align: middle;\n",
       "    }\n",
       "\n",
       "    .dataframe tbody tr th {\n",
       "        vertical-align: top;\n",
       "    }\n",
       "\n",
       "    .dataframe thead th {\n",
       "        text-align: right;\n",
       "    }\n",
       "</style>\n",
       "<table border=\"1\" class=\"dataframe\">\n",
       "  <thead>\n",
       "    <tr style=\"text-align: right;\">\n",
       "      <th></th>\n",
       "      <th>Depthmap Image</th>\n",
       "      <th>Height(cm)</th>\n",
       "      <th>Pose</th>\n",
       "    </tr>\n",
       "  </thead>\n",
       "  <tbody>\n",
       "    <tr>\n",
       "      <th>0</th>\n",
       "      <td>1d5fee00-ada4-11eb-a80b-3f50af21830f</td>\n",
       "      <td>76.7</td>\n",
       "      <td>[{'bbox_coordinates': [(158.91087, 92.53168), ...</td>\n",
       "    </tr>\n",
       "    <tr>\n",
       "      <th>1</th>\n",
       "      <td>1eddf4c0-ad9f-11eb-a80b-ef4adba049aa</td>\n",
       "      <td>66.4</td>\n",
       "      <td>[{'bbox_coordinates': [(131.00702, 68.115364),...</td>\n",
       "    </tr>\n",
       "    <tr>\n",
       "      <th>2</th>\n",
       "      <td>38e29bc0-8fc0-11eb-b5f2-0742da91b282</td>\n",
       "      <td>63.2</td>\n",
       "      <td>[{'bbox_coordinates': [(116.070114, 37.567608)...</td>\n",
       "    </tr>\n",
       "    <tr>\n",
       "      <th>3</th>\n",
       "      <td>6cd5d480-8b8b-11eb-b152-f7b115384fa9</td>\n",
       "      <td>87.1</td>\n",
       "      <td>[{'bbox_coordinates': [(145.24242, 26.49348), ...</td>\n",
       "    </tr>\n",
       "    <tr>\n",
       "      <th>4</th>\n",
       "      <td>76ed6fc0-8e1d-11eb-ad70-7be1a1219834</td>\n",
       "      <td>59.1</td>\n",
       "      <td>[{'bbox_coordinates': [(150.17046, 65.00379), ...</td>\n",
       "    </tr>\n",
       "  </tbody>\n",
       "</table>\n",
       "</div>"
      ],
      "text/plain": [
       "                         Depthmap Image  Height(cm)  \\\n",
       "0  1d5fee00-ada4-11eb-a80b-3f50af21830f        76.7   \n",
       "1  1eddf4c0-ad9f-11eb-a80b-ef4adba049aa        66.4   \n",
       "2  38e29bc0-8fc0-11eb-b5f2-0742da91b282        63.2   \n",
       "3  6cd5d480-8b8b-11eb-b152-f7b115384fa9        87.1   \n",
       "4  76ed6fc0-8e1d-11eb-ad70-7be1a1219834        59.1   \n",
       "\n",
       "                                                Pose  \n",
       "0  [{'bbox_coordinates': [(158.91087, 92.53168), ...  \n",
       "1  [{'bbox_coordinates': [(131.00702, 68.115364),...  \n",
       "2  [{'bbox_coordinates': [(116.070114, 37.567608)...  \n",
       "3  [{'bbox_coordinates': [(145.24242, 26.49348), ...  \n",
       "4  [{'bbox_coordinates': [(150.17046, 65.00379), ...  "
      ]
     },
     "execution_count": 390,
     "metadata": {},
     "output_type": "execute_result"
    }
   ],
   "source": [
    "# loading the datatset\n",
    "df = pd.read_excel('height_and_pose.xlsx')\n",
    "df.head()"
   ]
  },
  {
   "cell_type": "code",
   "execution_count": 391,
   "id": "11ccff29",
   "metadata": {},
   "outputs": [
    {
     "data": {
      "text/plain": [
       "<matplotlib.image.AxesImage at 0x13f78fd74f0>"
      ]
     },
     "execution_count": 391,
     "metadata": {},
     "output_type": "execute_result"
    },
    {
     "data": {
      "image/png": "[encoded data removed]",
      "text/plain": [
       "<Figure size 432x288 with 1 Axes>"
      ]
     },
     "metadata": {
      "needs_background": "light"
     },
     "output_type": "display_data"
    }
   ],
   "source": [
    "#loading images\n",
    "x,y = [],[]\n",
    "path = r\"C:\\Users\\madhu\\Dropbox\\My PC (LAPTOP-9DI2D1AT)\\Downloads\\DS_Assignment 2\\DS_Assignment 2\\depthmap\"\n",
    "for i in range(len(df)):\n",
    "    for file in os.listdir(path):\n",
    "        if file.startswith(df['Depthmap Image'][i]):   \n",
    "                img = cv2.imread(os.path.join(path,file))\n",
    "                scalled_raw_img = cv2.resize(img, (32, 32))\n",
    "                x.append(scalled_raw_img) \n",
    "                y.append(df['Height(cm)'][0])\n",
    "\n",
    "                    \n",
    "plt.imshow(img) "
   ]
  },
  {
   "cell_type": "code",
   "execution_count": 392,
   "id": "e9a31fc9",
   "metadata": {},
   "outputs": [
    {
     "data": {
      "text/plain": [
       "array([[[  0,   0,   0],\n",
       "        [ 88,  88,  88],\n",
       "        [ 87,  87,  87],\n",
       "        ...,\n",
       "        [ 84,  84,  84],\n",
       "        [ 83,  83,  83],\n",
       "        [ 84,  84,  84]],\n",
       "\n",
       "       [[  0,   0,   0],\n",
       "        [ 90,  90,  90],\n",
       "        [ 90,  90,  90],\n",
       "        ...,\n",
       "        [ 85,  85,  85],\n",
       "        [ 85,  85,  85],\n",
       "        [ 85,  85,  85]],\n",
       "\n",
       "       [[  0,   0,   0],\n",
       "        [ 90,  90,  90],\n",
       "        [ 90,  90,  90],\n",
       "        ...,\n",
       "        [ 85,  85,  85],\n",
       "        [ 85,  85,  85],\n",
       "        [ 86,  86,  86]],\n",
       "\n",
       "       ...,\n",
       "\n",
       "       [[  0,   0,   0],\n",
       "        [114, 114, 114],\n",
       "        [114, 114, 114],\n",
       "        ...,\n",
       "        [106, 106, 106],\n",
       "        [107, 107, 107],\n",
       "        [107, 107, 107]],\n",
       "\n",
       "       [[  0,   0,   0],\n",
       "        [118, 118, 118],\n",
       "        [117, 117, 117],\n",
       "        ...,\n",
       "        [108, 108, 108],\n",
       "        [109, 109, 109],\n",
       "        [109, 109, 109]],\n",
       "\n",
       "       [[  0,   0,   0],\n",
       "        [120, 120, 120],\n",
       "        [118, 118, 118],\n",
       "        ...,\n",
       "        [109, 109, 109],\n",
       "        [110, 110, 110],\n",
       "        [110, 110, 110]]], dtype=uint8)"
      ]
     },
     "execution_count": 392,
     "metadata": {},
     "output_type": "execute_result"
    }
   ],
   "source": [
    "x[0]"
   ]
  },
  {
   "cell_type": "code",
   "execution_count": 393,
   "id": "39dea2bc",
   "metadata": {},
   "outputs": [],
   "source": [
    "x = np.asarray(x)\n",
    "y = np.asarray(y)"
   ]
  },
  {
   "cell_type": "code",
   "execution_count": 394,
   "id": "716951dd",
   "metadata": {},
   "outputs": [
    {
     "data": {
      "text/plain": [
       "(9, 3072)"
      ]
     },
     "execution_count": 394,
     "metadata": {},
     "output_type": "execute_result"
    }
   ],
   "source": [
    "#flattening the images\n",
    "X = np.array(x).reshape(len(x),32*32*3).astype(float)\n",
    "X.shape"
   ]
  },
  {
   "cell_type": "code",
   "execution_count": 395,
   "id": "61f75655",
   "metadata": {},
   "outputs": [],
   "source": [
    "#first using SVR for prediction\n",
    "from sklearn.svm import SVR\n",
    "from sklearn.preprocessing import StandardScaler\n",
    "from sklearn.model_selection import train_test_split\n",
    "from sklearn.pipeline import Pipeline\n",
    "from sklearn.metrics import classification_report\n",
    "x_train, x_test, y_train, y_test = train_test_split(X, y, random_state=0)\n"
   ]
  },
  {
   "cell_type": "code",
   "execution_count": 396,
   "id": "01f02438",
   "metadata": {},
   "outputs": [
    {
     "data": {
      "text/plain": [
       "1.0"
      ]
     },
     "execution_count": 396,
     "metadata": {},
     "output_type": "execute_result"
    }
   ],
   "source": [
    "pipe = Pipeline([('scaler', StandardScaler()), ('svr', SVR(kernel = 'rbf', C = 10))])\n",
    "pipe.fit(x_train, y_train)\n",
    "pipe.score(x_test, y_test)#score recieved is 1 (highest)"
   ]
  },
  {
   "cell_type": "code",
   "execution_count": 397,
   "id": "c636153d",
   "metadata": {},
   "outputs": [
    {
     "data": {
      "text/plain": [
       "<keras.callbacks.History at 0x13f5c4a7550>"
      ]
     },
     "execution_count": 397,
     "metadata": {},
     "output_type": "execute_result"
    }
   ],
   "source": [
    "#using Neural network for prediction\n",
    "nn1 = tf.keras.Sequential([\n",
    "  tf.keras.layers.Dense(100, activation = tf.keras.activations.relu),\n",
    "  tf.keras.layers.Dense(100, activation = tf.keras.activations.relu),\n",
    "  tf.keras.layers.Dense(100, activation = tf.keras.activations.relu),\n",
    "  tf.keras.layers.Dense(1)\n",
    "])\n",
    "nn1.compile(loss=tf.keras.losses.mae, #mean absolute error as loss\n",
    "                optimizer=tf.keras.optimizers.Adam(),# Adam as optimizer\n",
    "                metrics=['mae'])\n",
    "nn1.fit(x_train, y_train, epochs=100, verbose=0)"
   ]
  },
  {
   "cell_type": "code",
   "execution_count": 398,
   "id": "dc3820ba",
   "metadata": {},
   "outputs": [
    {
     "name": "stdout",
     "output_type": "stream",
     "text": [
      "1/1 [==============================] - 0s 94ms/step - loss: 8.8429 - mae: 8.8429\n"
     ]
    },
    {
     "data": {
      "text/plain": [
       "[8.84289836883545, 8.84289836883545]"
      ]
     },
     "execution_count": 398,
     "metadata": {},
     "output_type": "execute_result"
    }
   ],
   "source": [
    "nn1.evaluate(x_test,y_test) #errr is around 10"
   ]
  },
  {
   "cell_type": "code",
   "execution_count": 399,
   "id": "eb1a8aaa",
   "metadata": {},
   "outputs": [
    {
     "data": {
      "text/plain": [
       "<keras.callbacks.History at 0x13f06f6d040>"
      ]
     },
     "execution_count": 399,
     "metadata": {},
     "output_type": "execute_result"
    }
   ],
   "source": [
    "nn2 = tf.keras.Sequential([\n",
    "  tf.keras.layers.Dense(100, activation = tf.keras.activations.relu),\n",
    "  tf.keras.layers.Dense(100, activation = tf.keras.activations.relu),\n",
    "  tf.keras.layers.Dense(1)\n",
    "])\n",
    "nn2.compile(loss=tf.keras.losses.mae,\n",
    "                optimizer=tf.keras.optimizers.SGD(),# SGD as optimizer\n",
    "                metrics=['mae'])\n",
    "nn2.fit(x_train, y_train, epochs=100, verbose=0)"
   ]
  },
  {
   "cell_type": "code",
   "execution_count": 400,
   "id": "ff6fbb73",
   "metadata": {},
   "outputs": [
    {
     "name": "stdout",
     "output_type": "stream",
     "text": [
      "1/1 [==============================] - 0s 94ms/step - loss: 75.7400 - mae: 75.7400\n"
     ]
    },
    {
     "data": {
      "text/plain": [
       "[75.73999786376953, 75.73999786376953]"
      ]
     },
     "execution_count": 400,
     "metadata": {},
     "output_type": "execute_result"
    }
   ],
   "source": [
    "nn2.evaluate(x_test,y_test) # error is huge, hence Adam is way better than SGD for our problem"
   ]
  },
  {
   "cell_type": "code",
   "execution_count": 401,
   "id": "8f8516c8",
   "metadata": {},
   "outputs": [
    {
     "data": {
      "text/plain": [
       "<keras.callbacks.History at 0x13f0733bf10>"
      ]
     },
     "execution_count": 401,
     "metadata": {},
     "output_type": "execute_result"
    }
   ],
   "source": [
    "# using Convolutional Neural Network for prediction\n",
    "x_train, x_test, y_train, y_test = train_test_split(x, y, random_state=0)\n",
    "cnn = tf.keras.Sequential([\n",
    "  tf.keras.layers.Conv2D(filters=32,kernel_size=(3,3),activation=tf.keras.activations.relu,input_shape=(32,32,3)),\n",
    "  tf.keras.layers.MaxPooling2D((2,2)),\n",
    "  tf.keras.layers.Conv2D(filters=32,kernel_size=(3,3),activation=tf.keras.activations.relu),\n",
    "  tf.keras.layers.MaxPooling2D((2,2)),\n",
    "  tf.keras.layers.Flatten(),\n",
    "  tf.keras.layers.Dense(100, activation = tf.keras.activations.relu),\n",
    "  tf.keras.layers.Dense(100, activation = tf.keras.activations.relu),\n",
    "  tf.keras.layers.Dense(100, activation = tf.keras.activations.relu),\n",
    "  tf.keras.layers.Dense(1)\n",
    "])\n",
    "cnn.compile(loss=tf.keras.losses.mae,\n",
    "                optimizer=tf.keras.optimizers.Adam(),\n",
    "                metrics=['mae'])\n",
    "cnn.fit(x_train, y_train, epochs=100, verbose=0)"
   ]
  },
  {
   "cell_type": "code",
   "execution_count": 402,
   "id": "5655ec76",
   "metadata": {},
   "outputs": [
    {
     "name": "stdout",
     "output_type": "stream",
     "text": [
      "1/1 [==============================] - 0s 133ms/step - loss: 11.5505 - mae: 11.5505\n"
     ]
    },
    {
     "data": {
      "text/plain": [
       "[11.55046558380127, 11.55046558380127]"
      ]
     },
     "execution_count": 402,
     "metadata": {},
     "output_type": "execute_result"
    }
   ],
   "source": [
    "cnn.evaluate(x_test,y_test) #error is around 10"
   ]
  },
  {
   "cell_type": "code",
   "execution_count": 403,
   "id": "5562b23a",
   "metadata": {},
   "outputs": [],
   "source": [
    "# using KNN for prediction\n",
    "x_train, x_test, y_train, y_test = train_test_split(X, y, random_state=0)\n",
    "from sklearn.preprocessing import MinMaxScaler\n",
    "scaler = MinMaxScaler(feature_range=(0, 1))\n",
    "\n",
    "x_train = scaler.fit_transform(x_train)\n",
    "\n",
    "x_test = scaler.fit_transform(x_test)\n",
    "\n"
   ]
  },
  {
   "cell_type": "code",
   "execution_count": 404,
   "id": "3c8ffcea",
   "metadata": {},
   "outputs": [
    {
     "name": "stdout",
     "output_type": "stream",
     "text": [
      "RMSE value for k=  1 is: 0.0\n",
      "RMSE value for k=  2 is: 0.0\n",
      "RMSE value for k=  3 is: 0.0\n",
      "RMSE value for k=  4 is: 0.0\n",
      "RMSE value for k=  5 is: 0.0\n"
     ]
    }
   ],
   "source": [
    "rmse_val = [] #to store rmse values for different k\n",
    "for K in range(5):\n",
    "    K = K+1\n",
    "    model = neighbors.KNeighborsRegressor(n_neighbors = K)\n",
    "\n",
    "    model.fit(x_train, y_train)  #fit the model\n",
    "    pred=model.predict(x_test) #make prediction on test set\n",
    "    error = sqrt(mean_squared_error(y_test,pred)) #calculate rmse\n",
    "    rmse_val.append(error) #store rmse values\n",
    "    print('RMSE value for k= ' , K , 'is:', error)\n"
   ]
  }
 ],
 "metadata": {
  "kernelspec": {
   "display_name": "Python 3 (ipykernel)",
   "language": "python",
   "name": "python3"
  },
  "language_info": {
   "codemirror_mode": {
    "name": "ipython",
    "version": 3
   },
   "file_extension": ".py",
   "mimetype": "text/x-python",
   "name": "python",
   "nbconvert_exporter": "python",
   "pygments_lexer": "ipython3",
   "version": "3.9.7"
  }
 },
 "nbformat": 4,
 "nbformat_minor": 5
}
